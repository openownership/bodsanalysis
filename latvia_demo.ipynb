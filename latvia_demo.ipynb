{
 "cells": [
  {
   "cell_type": "markdown",
   "metadata": {},
   "source": [
    "<img src=\"_assets/openingextractiveslogo.png\" alt=\"logos\" width=\"400\" style=\"float:right\">"
   ]
  },
  {
   "cell_type": "markdown",
   "metadata": {
    "cell_id": "78ff13d9-2fa3-408f-ab2f-a23c14d13afb",
    "deepnote_app_coordinates": {
     "h": 10,
     "w": 12,
     "x": 0,
     "y": 2274
    },
    "deepnote_cell_height": 238,
    "deepnote_cell_type": "markdown",
    "id": "tZh7k1SuyJXD"
   },
   "source": [
    "# <span style = 'color:#363487'>A notebook for analysing Beneficial Ownership Data Standard (BODS) data</span>"
   ]
  },
  {
   "cell_type": "markdown",
   "metadata": {
    "cell_id": "9e95f526ec7c4480b44ccf0ea6b23fe8",
    "deepnote_app_coordinates": {
     "h": 3,
     "w": 12,
     "x": 0,
     "y": 675
    },
    "deepnote_cell_height": 70,
    "deepnote_cell_type": "markdown",
    "tags": []
   },
   "source": [
    "## Background"
   ]
  },
  {
   "cell_type": "markdown",
   "metadata": {
    "cell_id": "4222cf784fe64e4db5a33d6bceabcd20",
    "deepnote_app_coordinates": {
     "h": 14,
     "w": 12,
     "x": 0,
     "y": 2259
    },
    "deepnote_cell_height": 623.5625,
    "deepnote_cell_type": "markdown",
    "tags": []
   },
   "source": [
    "This report contains analyses of data produced in line with the [Beneficial Ownership Data Standard](https://standard.openownership.org/) (BODS), using an [initial dataset](https://data.gov.lv/dati/lv/dataset/plg-bods/resource/19a7d5f5-5586-4de2-a710-fc7145a129f2) released by the Register of Enterprises of the Republic of Latvia. The analyses presented here are a subset of a full BODS analysis notebook, which can be used to analyse any BODS dataset. The aim of the notebook is to inform discussion on how BODS data can be improved to make it as useful as possible.\n",
    "\n",
    "It has been produced as part of the [Opening Extractives programme](https://www.openownership.org/en/topics/opening-extractives/) which is implemented jointly between the [Extractive Industries Transparency Initiative International Secretariat](https://eiti.org/opening-extractives) and Open Ownership. Opening Extractives aims to transform the availability and use of beneficial ownership data for effective governance in the extractive sector.\n",
    "\n",
    "The structure of this notebook - and of the example feedback report - aligns with the Open Ownership [Principles for Effective Beneficial Ownership Disclosure](https://www.openownership.org/en/principles/) (OO Principles). \n",
    "\n",
    "The OO Principles provide a framework for implementing comprehensive beneficial ownership transparency reforms, and assessing and improving existing disclosure regimes. They seek to generate actionable and usable data across the widest range of policy applications of beneficial ownership data. Effective disclosure needs high quality, reliable data to maximise usability for all potential users and to minimise loopholes.\n",
    "\n",
    "Here, we provide example queries that align to each of the principles, and accompanying guidance of how to interpret BODS data in light of the principles.\n"
   ]
  },
  {
   "cell_type": "markdown",
   "metadata": {
    "cell_id": "00002-6faec1a0-343b-4009-ac9c-b838639c67da",
    "deepnote_cell_height": 304.78125,
    "deepnote_cell_type": "markdown",
    "id": "KSO1_TvByV5z"
   },
   "source": [
    "<div style=\"background-color:#f2f4f8\">\n",
    "\n",
    "## Setup\n",
    "\n",
    "### How to complete this section\n",
    "\n",
    "All code chunks in this section need to be run in order for subsequent queries to work. The code chunk that installs libraries from `requirements.txt` only needs be run once if using the notebook locally, while the other chunks need to be run once per session. The majority of functions to run this notebook are in the `qbods` library, which can be found and edited within the script `qbods.py` that accompanies this notebook.\n",
    "\n",
    "</div>"
   ]
  },
  {
   "cell_type": "markdown",
   "metadata": {
    "cell_id": "00003-dd0e4053-006f-4005-8327-6b94882f9e38",
    "deepnote_cell_height": 100.390625,
    "deepnote_cell_type": "markdown",
    "id": "hW92WNNS_Mt8"
   },
   "source": [
    " <div style=\"background-color:f2f4f8\">\n",
    "\n",
    "\n",
    "### Install and import libraries\n",
    "\n",
    "</div>"
   ]
  },
  {
   "cell_type": "code",
   "execution_count": null,
   "metadata": {
    "cell_id": "f54d825c82aa46978cc987b28cb9275e",
    "deepnote_cell_height": 696,
    "deepnote_cell_type": "code",
    "deepnote_to_be_reexecuted": false,
    "execution_millis": 21568,
    "execution_start": 1659974373713,
    "output_cleared": false,
    "source_hash": "7958d4a9",
    "tags": []
   },
   "outputs": [],
   "source": [
    "!pip3 install -r requirements.txt"
   ]
  },
  {
   "cell_type": "code",
   "execution_count": null,
   "metadata": {
    "cell_id": "00004-6c9a164a-7ac2-4405-aa9c-993dff193d08",
    "deepnote_cell_height": 94,
    "deepnote_cell_type": "code",
    "deepnote_to_be_reexecuted": false,
    "execution_millis": 1993,
    "execution_start": 1659974395296,
    "id": "ClQ_KpzY-Yx0",
    "output_cleared": false,
    "source_hash": "cc6bff1a"
   },
   "outputs": [],
   "source": [
    "import qbods\n",
    "import pandas as pd"
   ]
  },
  {
   "cell_type": "markdown",
   "metadata": {
    "cell_id": "00005-157dcccb-006c-4742-867a-d60ac93f16fa",
    "deepnote_cell_height": 159.1875,
    "deepnote_cell_type": "markdown",
    "id": "J9ZGg_nNpkx9"
   },
   "source": [
    " <div style=\"background-color:#f2f4f8\">\n",
    "\n",
    "### Download and unzip data\n",
    "\n",
    "Insert the url pointing to the csv download from the [BODS data analysis tools](https://bods-data.openownership.org/). See the methodology document if this resource is not yet available.\n",
    "\n",
    "</div>"
   ]
  },
  {
   "cell_type": "code",
   "execution_count": null,
   "metadata": {
    "cell_id": "00006-342f1e10-00ff-4621-929e-25cffd47171b",
    "colab": {
     "base_uri": "https://localhost:8080/"
    },
    "deepnote_cell_height": 701,
    "deepnote_cell_type": "code",
    "deepnote_to_be_reexecuted": false,
    "executionInfo": {
     "elapsed": 5076,
     "status": "ok",
     "timestamp": 1654087646558,
     "user": {
      "displayName": "Simon Whitehouse",
      "userId": "13401073139446353674"
     },
     "user_tz": -60
    },
    "execution_millis": 6352,
    "execution_start": 1659974397315,
    "id": "TxC9vaZa6ZVV",
    "outputId": "65f0a2f0-306d-4987-f6ee-a7b67612ed77",
    "output_cleared": false,
    "source_hash": "8d821128"
   },
   "outputs": [],
   "source": [
    "qbods.getBodsData(\"https://s3.eu-west-1.amazonaws.com/oo-bodsdata/data/latvia/csv.zip\")"
   ]
  },
  {
   "cell_type": "markdown",
   "metadata": {
    "cell_id": "00009-4c01c79e-d6a2-4181-808a-088b3c89ed30",
    "deepnote_cell_height": 100.390625,
    "deepnote_cell_type": "markdown",
    "id": "ulAjS80RdCQC"
   },
   "source": [
    " <div style=\"background-color:#f2f4f8\">\n",
    "\n",
    "### Read in data\n",
    "\n",
    "</div>"
   ]
  },
  {
   "cell_type": "code",
   "execution_count": null,
   "metadata": {
    "cell_id": "00010-edfa6b96-13f4-4d12-bbaa-1b3a06f50a81",
    "deepnote_cell_height": 361.53125,
    "deepnote_cell_type": "code",
    "deepnote_output_heights": [
     251.53125
    ],
    "deepnote_to_be_reexecuted": false,
    "execution_millis": 7982,
    "execution_start": 1659974403722,
    "id": "odl3s_U-dFpu",
    "output_cleared": false,
    "source_hash": "fef028d9"
   },
   "outputs": [],
   "source": [
    "d = qbods.readBodsData('csv')\n",
    "list(d.keys())"
   ]
  },
  {
   "cell_type": "markdown",
   "metadata": {
    "cell_id": "00011-4e331ba8-16c6-4b77-aeae-27d384388a47",
    "deepnote_app_coordinates": {
     "h": 5,
     "w": 12,
     "x": 0,
     "y": 390
    },
    "deepnote_cell_height": 70,
    "deepnote_cell_type": "markdown",
    "id": "EbwE7BSnKASg"
   },
   "source": [
    "## Principles"
   ]
  },
  {
   "cell_type": "markdown",
   "metadata": {
    "cell_id": "8ebae2c6bb174a789321032518decc68",
    "deepnote_cell_height": 212.984375,
    "deepnote_cell_type": "markdown",
    "tags": []
   },
   "source": [
    "<div style = \"background-color:#f2f4f8\">\n",
    "\n",
    "### How to complete this section\n",
    "\n",
    "- For each section, run the queries\n",
    "- Carefully check the tables and graphs and fix any errors\n",
    "\n",
    "</div>"
   ]
  },
  {
   "cell_type": "markdown",
   "metadata": {
    "cell_id": "00012-48deafe5-e3de-4f37-bb02-23cd97bc3a05",
    "deepnote_app_coordinates": {
     "h": 5,
     "w": 12,
     "x": 0,
     "y": 396
    },
    "deepnote_cell_height": 100.390625,
    "deepnote_cell_type": "markdown",
    "id": "FC5ikQvFKL90",
    "owner_user_id": "25720953-aa52-429a-abca-50391debf630"
   },
   "source": [
    "### 1. Robust definition\n",
    "\n",
    "This section reports how the data maps to the [robust definition](https://www.openownership.org/en/principles/robust-definition/) principle. "
   ]
  },
  {
   "cell_type": "markdown",
   "metadata": {
    "cell_id": "00013-486aac4c-d22a-42bf-a600-e4d9d19e634f",
    "deepnote_app_coordinates": {
     "h": 5,
     "w": 12,
     "x": 0,
     "y": 426
    },
    "deepnote_cell_height": 124.796875,
    "deepnote_cell_type": "markdown",
    "id": "FlY6zs7X-RVa"
   },
   "source": [
    "#### Natural Persons\n",
    "\n",
    "- Robust and clear definitions of beneficial ownership should state that a beneficial owner should be a natural person"
   ]
  },
  {
   "cell_type": "markdown",
   "metadata": {
    "cell_id": "00014-58a0120d-a2ec-4290-b953-18adeecae185",
    "deepnote_app_coordinates": {
     "h": 5,
     "w": 12,
     "x": 0,
     "y": 432
    },
    "deepnote_cell_height": 236.78125,
    "deepnote_cell_type": "markdown",
    "id": "PiAsXYduac37"
   },
   "source": [
    "##### Interested parties\n",
    "\n",
    "**Query description:** Provides a breakdown of the types of people and companies who own and control companies.\n",
    "\n",
    "**Query result:** The below table and graph provide counts of interested parties in ownership or control statements, grouped by type (person type if  from a person statement, or entity type if from an entity statement), and by whether at least one interest is described as beneficial ownership or control."
   ]
  },
  {
   "cell_type": "code",
   "execution_count": null,
   "metadata": {
    "cell_id": "00018-ce9dce57-1db2-479b-ab7e-c781ad2feb27",
    "colab": {
     "base_uri": "https://localhost:8080/",
     "height": 715
    },
    "deepnote_app_coordinates": {
     "h": 5,
     "w": 12,
     "x": 0,
     "y": 438
    },
    "deepnote_app_is_code_hidden": true,
    "deepnote_cell_height": 577,
    "deepnote_cell_type": "code",
    "deepnote_to_be_reexecuted": false,
    "executionInfo": {
     "elapsed": 1796,
     "status": "ok",
     "timestamp": 1654087652178,
     "user": {
      "displayName": "Simon Whitehouse",
      "userId": "13401073139446353674"
     },
     "user_tz": -60
    },
    "execution_millis": 1745,
    "execution_start": 1659974411862,
    "id": "8aIPaOpk5xON",
    "outputId": "868b963d-1ae2-4baf-abd6-7c2d1a512f0e",
    "output_cleared": false,
    "source_hash": "1a89ec8e"
   },
   "outputs": [],
   "source": [
    "o121 = qbods.q121(d['ooc_interests'],d['ooc_statement'],d['person_statement'],d['entity_statement'])\n",
    "o121[0]"
   ]
  },
  {
   "cell_type": "code",
   "execution_count": null,
   "metadata": {
    "cell_id": "97af5379be4e4a0ab49144f05ad41514",
    "deepnote_app_coordinates": {
     "h": 5,
     "w": 12,
     "x": 0,
     "y": 444
    },
    "deepnote_app_is_code_hidden": true,
    "deepnote_cell_height": 356,
    "deepnote_cell_type": "code",
    "deepnote_output_heights": [
     264
    ],
    "deepnote_to_be_reexecuted": false,
    "execution_millis": 572,
    "execution_start": 1659974413400,
    "output_cleared": false,
    "source_hash": "b523faf0",
    "tags": []
   },
   "outputs": [],
   "source": [
    "o121[1]"
   ]
  },
  {
   "cell_type": "markdown",
   "metadata": {
    "cell_id": "087f78ca16144baf8cc48d7438fe5b0c",
    "deepnote_app_coordinates": {
     "h": 11,
     "w": 12,
     "x": 0,
     "y": 774
    },
    "deepnote_cell_height": 528.359375,
    "deepnote_cell_type": "markdown",
    "tags": []
   },
   "source": [
    "**Query interpretation:** A robust definition of beneficial ownership will clearly specify that beneficial owners should be natural persons. In the resulting data we may expect to see interested party types that correspond to both entities and natural persons as interested parties, but only interested party types that correspond to natural persons (knownPerson, unknownPerson, anonymousPersons) should be described as beneficial owners. \n",
    "\n",
    "Anonymous and unknown persons may be described as beneficial owners, but, in accordance with the sufficient detail principle, these person types are expected to constitute a small overall proportion of all owner types, compared to known persons.\n",
    "\n",
    "**Query feedback:** In the Latvia data the vast majority of interested parties are known persons, with a smaller set of registered entities. Though most statements do not contain information about beneficial ownership or control, of those that do, no statements have entities described as a beneficial owner. Instead, all statements where an interested party is a natural person are described as beneficial ownership, and all those where a registered entity is the interested party are described as not being beneficial ownership. This is in line with the [robust definition](https://www.openownership.org/en/principles/robust-definition/) principle, although it is possible for natural persons to be interested parties in ownership arrangements that do not constitute beneficial ownership."
   ]
  },
  {
   "cell_type": "markdown",
   "metadata": {
    "cell_id": "00019-d529f180-942f-47d7-ae99-abc8e7fe19a8",
    "deepnote_app_coordinates": {
     "h": 5,
     "w": 12,
     "x": 0,
     "y": 468
    },
    "deepnote_cell_height": 102.390625,
    "deepnote_cell_type": "markdown",
    "id": "1zsL6IgZzRIp"
   },
   "source": [
    "#### Ownership and control\n",
    "\n",
    "- Definitions should cover all relevant forms of ownership and control"
   ]
  },
  {
   "cell_type": "markdown",
   "metadata": {
    "cell_id": "00020-ae7fc732-65aa-4418-ac3f-dfef418eb9fd",
    "deepnote_app_coordinates": {
     "h": 5,
     "w": 12,
     "x": 0,
     "y": 474
    },
    "deepnote_cell_height": 191.984375,
    "deepnote_cell_type": "markdown",
    "id": "Bx0oq0k8zgb-"
   },
   "source": [
    "##### Interest types and beneficial ownership or control\n",
    "\n",
    "**Query description:** Provides a breakdown of the ways in which people own and control companies.\n",
    "\n",
    "**Query result:** The below table and graph provide counts of interests in ownership or control statements, grouped by interest type, and by whether the interest was classified as beneficial ownership or control."
   ]
  },
  {
   "cell_type": "code",
   "execution_count": null,
   "metadata": {
    "allow_embed": true,
    "cell_id": "00025-5cc9a1b0-344b-4bfa-8790-d48049eed420",
    "colab": {
     "base_uri": "https://localhost:8080/",
     "height": 1000
    },
    "deepnote_app_coordinates": {
     "h": 5,
     "w": 12,
     "x": 0,
     "y": 480
    },
    "deepnote_app_is_code_hidden": true,
    "deepnote_cell_height": 859,
    "deepnote_cell_type": "code",
    "deepnote_table_loading": false,
    "deepnote_table_state": {
     "filters": [],
     "pageIndex": 0,
     "pageSize": 25,
     "sortBy": []
    },
    "deepnote_to_be_reexecuted": false,
    "executionInfo": {
     "elapsed": 1415,
     "status": "ok",
     "timestamp": 1654087653581,
     "user": {
      "displayName": "Simon Whitehouse",
      "userId": "13401073139446353674"
     },
     "user_tz": -60
    },
    "execution_millis": 513,
    "execution_start": 1659974414018,
    "id": "JQ_CdyuIk9fF",
    "outputId": "5299c0ac-9855-4b9e-ed4d-37f15d254267",
    "output_cleared": false,
    "source_hash": "f64bad2f"
   },
   "outputs": [],
   "source": [
    "o131 = qbods.q131(d['ooc_interests'],d['ooc_statement'])\n",
    "o131[0]"
   ]
  },
  {
   "cell_type": "code",
   "execution_count": null,
   "metadata": {
    "cell_id": "d6fabd02396d4e6281d150205b6cc19b",
    "deepnote_app_coordinates": {
     "h": 5,
     "w": 12,
     "x": 0,
     "y": 486
    },
    "deepnote_app_is_code_hidden": true,
    "deepnote_cell_height": 331.125,
    "deepnote_cell_type": "code",
    "deepnote_output_heights": [
     239.125
    ],
    "deepnote_to_be_reexecuted": false,
    "execution_millis": 694,
    "execution_start": 1659974414535,
    "output_cleared": false,
    "source_hash": "170445",
    "tags": []
   },
   "outputs": [],
   "source": [
    "o131[1]"
   ]
  },
  {
   "cell_type": "markdown",
   "metadata": {
    "cell_id": "bc399788c0c8409aa51fb4e162b0cf31",
    "deepnote_app_coordinates": {
     "h": 13,
     "w": 12,
     "x": 0,
     "y": 797
    },
    "deepnote_cell_height": 424.765625,
    "deepnote_cell_type": "markdown",
    "tags": []
   },
   "source": [
    "**Query interpretation:** Providing details about ownership or control interests is not a required element, according to the [BODS v0.2 schema](https://standard.openownership.org/en/0.2.0/schema/index.html). However, we would expect Interest details to be recorded for a majority of ownership or control statements. A range (i.e. at least two) of interest types should be recorded across ownership or control statements. Beneficial owners in particular are expected to encompass [a range of interest types](https://standard.openownership.org/en/0.2.0/schema/reference.html?highlight=interest#interesttype), so we expect to see a range of values in the data where [beneficial ownership or control is True](https://standard.openownership.org/en/0.3.0/schema/guidance/repr-beneficial-ownership.html). In most jurisdictions, the majority of interest types are expected to be ‘shareholding’ or ‘voting’ rights, and only a minority of cases should be ‘other influence or control’.\n",
    "\n",
    "**Query feedback:** In this dataset, most interest types are missing, which makes it difficult to ascertain the nature of ownership or control arrangements. Of those where there is interest data almost all are 'other interest or control' which suggests either that BODS v0.2 did not properly capture the nature of ownership and control in this set of declaring entities, or that there was in issue with the data modelling, collection or publishing process."
   ]
  },
  {
   "cell_type": "markdown",
   "metadata": {
    "cell_id": "00054-341dec92-ec88-4124-977a-baadc9e410f6",
    "deepnote_app_coordinates": {
     "h": 5,
     "w": 12,
     "x": 0,
     "y": 558
    },
    "deepnote_cell_height": 122.796875,
    "deepnote_cell_type": "markdown",
    "id": "VIXYuoJTzXeb"
   },
   "source": [
    "### 2. Comprehensive coverage\n",
    "\n",
    "This section reports how the data maps to the [comprehensive coverage](https://www.openownership.org/en/principles/comprehensive-coverage/) principle."
   ]
  },
  {
   "cell_type": "markdown",
   "metadata": {
    "cell_id": "9a9a9f6ce99f427a8dcc126bb26ea746",
    "deepnote_app_coordinates": {
     "h": 5,
     "w": 12,
     "x": 0,
     "y": 564
    },
    "deepnote_cell_height": 147.1875,
    "deepnote_cell_type": "markdown",
    "tags": []
   },
   "source": [
    "#### Coverage of entities\n",
    "\n",
    "- All types of entities and arrangements through which ownership and control can be exercised should be included in declarations, unless reasonably exempt"
   ]
  },
  {
   "cell_type": "markdown",
   "metadata": {
    "cell_id": "d6e7071fb7504006a30d44fcaeebe3f7",
    "deepnote_app_coordinates": {
     "h": 12,
     "w": 12,
     "x": 0,
     "y": 853
    },
    "deepnote_cell_height": 214.390625,
    "deepnote_cell_type": "markdown",
    "tags": []
   },
   "source": [
    "##### Entity types declaring their beneficial ownership\n",
    "\n",
    "**Query description:** Provides a breakdown of the entity types that are subjects of ownership or control arrangements.\n",
    "\n",
    "**Query result:** The below table and figure show counts of subjects in ownership or control statements, grouped by entity type, and by whether at least one interest in the ownership or control statement is described as beneficial ownership or control."
   ]
  },
  {
   "cell_type": "code",
   "execution_count": null,
   "metadata": {
    "cell_id": "2cf0a5b3f68145b88d8294de6d45a34d",
    "deepnote_app_coordinates": {
     "h": 19,
     "w": 12,
     "x": 0,
     "y": 866
    },
    "deepnote_app_is_code_hidden": true,
    "deepnote_cell_height": 454,
    "deepnote_cell_type": "code",
    "deepnote_to_be_reexecuted": false,
    "execution_millis": 1448,
    "execution_start": 1659974415232,
    "output_cleared": false,
    "source_hash": "7c30839f",
    "tags": []
   },
   "outputs": [],
   "source": [
    "o213 = qbods.q213(d['ooc_interests'],d['ooc_statement'],d['entity_statement'])\n",
    "o213[0]"
   ]
  },
  {
   "cell_type": "code",
   "execution_count": null,
   "metadata": {
    "cell_id": "3d0704da00ed47d28daf6ceefaccaf1c",
    "deepnote_app_coordinates": {
     "h": 14,
     "w": 12,
     "x": 0,
     "y": 886
    },
    "deepnote_app_is_code_hidden": true,
    "deepnote_cell_height": 356,
    "deepnote_cell_type": "code",
    "deepnote_output_heights": [
     264
    ],
    "deepnote_to_be_reexecuted": false,
    "execution_millis": 625,
    "execution_start": 1659974416055,
    "output_cleared": false,
    "source_hash": "fc01b6de",
    "tags": []
   },
   "outputs": [],
   "source": [
    "o213[1]"
   ]
  },
  {
   "cell_type": "markdown",
   "metadata": {
    "cell_id": "eb5f67ad4f6d451ba40aef71501cd0a2",
    "deepnote_app_coordinates": {
     "h": 6,
     "w": 12,
     "x": 0,
     "y": 901
    },
    "deepnote_cell_height": 245.578125,
    "deepnote_cell_type": "markdown",
    "tags": []
   },
   "source": [
    "**Query interpretation:** Depending on the disclosure regime, we may expect to see a range of entity types declaring their beneficial owners. Missing interest data may impede the ability to determine which companies are declaring their beneficial owners.\n",
    "\n",
    "**Query feedback:** In the [Latvia data](https://bods-data.openownership.org/source/latvia/), the vast majority of entities that are subjects in Ownership or Control Statements are Registered Entities, with a smaller number of arrangements and anonymous entities. There is insufficient data on beneficial ownership or control to determine if there are differences in beneficial ownership reporting between entity types."
   ]
  },
  {
   "cell_type": "markdown",
   "metadata": {
    "cell_id": "501dd196b2514396840e6c28b12270a6",
    "deepnote_app_coordinates": {
     "h": 9,
     "w": 12,
     "x": 0,
     "y": 988
    },
    "deepnote_cell_height": 214.390625,
    "deepnote_cell_type": "markdown",
    "tags": []
   },
   "source": [
    "##### Anonymous and unknown entities\n",
    "\n",
    "**Query description:** Provides a breakdown of reasons given for missing entity information.\n",
    "\n",
    "**Query result:** The below table and graph provide counts of entity statements, grouped by reasons given for missing entity information (to be used where entities are given a type unspecified or anonymous), and by entity type."
   ]
  },
  {
   "cell_type": "code",
   "execution_count": null,
   "metadata": {
    "cell_id": "179e6dd32f224c95ba87d20b8b0da2be",
    "deepnote_app_coordinates": {
     "h": 23,
     "w": 12,
     "x": 0,
     "y": 998
    },
    "deepnote_app_is_code_hidden": true,
    "deepnote_cell_height": 572,
    "deepnote_cell_type": "code",
    "deepnote_to_be_reexecuted": false,
    "execution_millis": 697,
    "execution_start": 1659974416448,
    "output_cleared": false,
    "source_hash": "3c20581",
    "tags": []
   },
   "outputs": [],
   "source": [
    "o221 = qbods.q221(d['entity_statement'])\n",
    "o221[0]"
   ]
  },
  {
   "cell_type": "code",
   "execution_count": null,
   "metadata": {
    "cell_id": "d729a3c8a4294ec18619bec29b2d8f9c",
    "deepnote_app_coordinates": {
     "h": 11,
     "w": 12,
     "x": 0,
     "y": 1022
    },
    "deepnote_app_is_code_hidden": true,
    "deepnote_cell_height": 299.28125,
    "deepnote_cell_type": "code",
    "deepnote_output_heights": [
     207.28125
    ],
    "deepnote_to_be_reexecuted": false,
    "execution_millis": 628,
    "execution_start": 1659974417156,
    "output_cleared": false,
    "source_hash": "31170dd8",
    "tags": []
   },
   "outputs": [],
   "source": [
    "o221[1]"
   ]
  },
  {
   "cell_type": "markdown",
   "metadata": {
    "cell_id": "6ca8152693e54a4a86ac327a8b8bfa4a",
    "deepnote_app_coordinates": {
     "h": 11,
     "w": 12,
     "x": 0,
     "y": 1034
    },
    "deepnote_cell_height": 491.96875,
    "deepnote_cell_type": "markdown",
    "tags": []
   },
   "source": [
    "**Query interpretation:** All instances where entity types are listed as anonymous or unknown are [expected to be accompanied by an explanation](https://standard.openownership.org/en/0.2.0/schema/reference.html?highlight=unspecifiedEntityDetails#entitystatement), so there should be no missing data on reasons provided for these entity types. In addition, a range of reasons are expected and we would not expect all reasons to be described as ‘unknown’. Reasons for unepcified entity details are not expected when the entity type is not 'anonymous entity' or 'unknown entity'. In instances where the reason given is that the subject or interested party is exempt from disclosure, accompanying free-text descriptions are likely to be useful to clarify why this might be the case.\n",
    "\n",
    "**Query feedback:** In this dataset, no reasons are provided where unknown or anonymous entity types are used. However, the number of unknown and anonymous types used is very small. Unspecified entity details are provided for a small number of statements where the entity type is 'registered entity', which is not expected. All of these statements use the same reason, and all provide a freetext description. Together, this suggests that there are some issues with how data on unspecified and anonymous entities are being modeled, but we see no suggestion in these results that anonymous and unknown entities are being used to obscure information about companies in this dataset."
   ]
  },
  {
   "cell_type": "markdown",
   "metadata": {
    "cell_id": "00055-2ab551ba-91cc-453e-a807-1a9fb0826266",
    "deepnote_app_coordinates": {
     "h": 5,
     "w": 12,
     "x": 0,
     "y": 606
    },
    "deepnote_cell_height": 100.390625,
    "deepnote_cell_type": "markdown",
    "id": "dItDH0CG8mpT"
   },
   "source": [
    "### 3. Sufficient detail\n",
    "\n",
    "This section reports how the data maps to the [sufficient detail](https://www.openownership.org/en/principles/sufficient-detail/) principle.\n",
    "\n"
   ]
  },
  {
   "cell_type": "markdown",
   "metadata": {
    "cell_id": "fede1366b8464c86b0502b9339c5fda4",
    "deepnote_app_coordinates": {
     "h": 7,
     "w": 12,
     "x": 0,
     "y": 1183
    },
    "deepnote_cell_height": 147.1875,
    "deepnote_cell_type": "markdown",
    "tags": []
   },
   "source": [
    "#### Detail about people\n",
    "\n",
    "- Sufficient information should be collected to be able to unambiguously identify people, entities, and arrangements, using clear identifiers for natural persons, legal entities and arrangements"
   ]
  },
  {
   "cell_type": "markdown",
   "metadata": {
    "cell_id": "df4b821ee9374926979685719f3027f6",
    "deepnote_app_coordinates": {
     "h": 8,
     "w": 12,
     "x": 0,
     "y": 1331
    },
    "deepnote_cell_height": 191.984375,
    "deepnote_cell_type": "markdown",
    "tags": []
   },
   "source": [
    "##### Birth date\n",
    "\n",
    "**Query description:** Provides a breakdown of people by the decade and year of their birth.\n",
    "\n",
    "**Query result:** The table below provides counts of person statements, grouped by their decade of birth. The figure shows the distribution by individual year of birth."
   ]
  },
  {
   "cell_type": "code",
   "execution_count": null,
   "metadata": {
    "cell_id": "9d92f74283b049f8a36dfe79c36c64a6",
    "deepnote_app_coordinates": {
     "h": 24,
     "w": 12,
     "x": 0,
     "y": 1355
    },
    "deepnote_app_is_code_hidden": true,
    "deepnote_cell_height": 613,
    "deepnote_cell_type": "code",
    "deepnote_table_loading": false,
    "deepnote_table_state": {
     "filters": [],
     "pageIndex": 0,
     "pageSize": 10,
     "sortBy": []
    },
    "deepnote_to_be_reexecuted": false,
    "execution_millis": 1556,
    "execution_start": 1659974417787,
    "output_cleared": false,
    "owner_user_id": "eed58fae-54f3-4c3e-a603-3f8b48d70073",
    "source_hash": "e18985f2",
    "tags": []
   },
   "outputs": [],
   "source": [
    "o314 = qbods.q314(d['person_statement'])\n",
    "o314[0]"
   ]
  },
  {
   "cell_type": "code",
   "execution_count": null,
   "metadata": {
    "cell_id": "4b0881f9ad0b4bef959e1114a1b8bfde",
    "deepnote_app_coordinates": {
     "h": 14,
     "w": 12,
     "x": 0,
     "y": 1340
    },
    "deepnote_app_is_code_hidden": true,
    "deepnote_cell_height": 356,
    "deepnote_cell_type": "code",
    "deepnote_output_heights": [
     264
    ],
    "deepnote_to_be_reexecuted": false,
    "execution_millis": 786,
    "execution_start": 1659974418626,
    "output_cleared": false,
    "source_hash": "55cc6864",
    "tags": []
   },
   "outputs": [],
   "source": [
    "o314[1]"
   ]
  },
  {
   "cell_type": "markdown",
   "metadata": {
    "cell_id": "dfa932a12d684943a9e3b4145ee5d1c2",
    "deepnote_app_coordinates": {
     "h": 7,
     "w": 12,
     "x": 0,
     "y": 1380
    },
    "deepnote_cell_height": 200.78125,
    "deepnote_cell_type": "markdown",
    "tags": []
   },
   "source": [
    "**Query interpretation:**  A range of birth and death years are expected, though values outside realistic ranges (e.g. with very old year of death or very recent year of birth) may indicate verification issues.\n",
    "\n",
    "**Query feedback:** Most age ranges are in a realistic range and follow a realistic distribution, however the presence of some birth years after 2010 and in the future suggest that there may be verification or publishing issues."
   ]
  },
  {
   "cell_type": "markdown",
   "metadata": {
    "cell_id": "7bda9c000426498392b4e8d0ce4c61e5",
    "deepnote_app_coordinates": {
     "h": 8,
     "w": 12,
     "x": 0,
     "y": 1478
    },
    "deepnote_cell_height": 169.59375,
    "deepnote_cell_type": "markdown",
    "tags": []
   },
   "source": [
    "#### Detail about interests\n",
    "\n",
    "- Where BO is held indirectly through multiple legal entities or legal arrangements, or ownership or control are exerted formally or informally through another natural person, sufficient information should be collected to understand full ownership chains"
   ]
  },
  {
   "cell_type": "markdown",
   "metadata": {
    "cell_id": "cade375713a24c41b01af1df559ef3dd",
    "deepnote_app_coordinates": {
     "h": 11,
     "w": 12,
     "x": 0,
     "y": 1487
    },
    "deepnote_cell_height": 236.78125,
    "deepnote_cell_type": "markdown",
    "tags": []
   },
   "source": [
    "##### Size and composition of beneficial ownership chains\n",
    "\n",
    "**Query description:** Provides an overview of the size and composition of ownership chains. Note that this query is run for a subsample of the dataset (here, 250 ownership chains).\n",
    "\n",
    "**Query result:** The below table shows the average, minimum and maximum values for the number nodes per ownership chain, the number of entities per chain, and the number of persons per chain. The graph provides a visual overview of these chains in network format."
   ]
  },
  {
   "cell_type": "code",
   "execution_count": null,
   "metadata": {
    "cell_id": "826864ac439b4e8181c3d7f5836c8fe4",
    "deepnote_app_coordinates": {
     "h": 14,
     "w": 12,
     "x": 0,
     "y": 1499
    },
    "deepnote_app_is_code_hidden": true,
    "deepnote_cell_height": 326,
    "deepnote_cell_type": "code",
    "deepnote_to_be_reexecuted": false,
    "execution_millis": 19442,
    "execution_start": 1659974419021,
    "output_cleared": false,
    "source_hash": "dc3f4333",
    "tags": []
   },
   "outputs": [],
   "source": [
    "o331 = qbods.q331(d['ooc_statement'], 250)\n",
    "o331[0]"
   ]
  },
  {
   "cell_type": "code",
   "execution_count": null,
   "metadata": {
    "cell_id": "6b93be9eb41648b4a508de6ca5ca9f0a",
    "deepnote_app_coordinates": {
     "h": 13,
     "w": 12,
     "x": 0,
     "y": 1514
    },
    "deepnote_app_is_code_hidden": true,
    "deepnote_cell_height": 325,
    "deepnote_cell_type": "code",
    "deepnote_output_heights": [
     233
    ],
    "deepnote_to_be_reexecuted": false,
    "execution_millis": 2316,
    "execution_start": 1659974436183,
    "output_cleared": false,
    "source_hash": "685b879f",
    "tags": []
   },
   "outputs": [],
   "source": [
    "o331[1]"
   ]
  },
  {
   "cell_type": "markdown",
   "metadata": {
    "cell_id": "0b39579d783046cc942d14187c649128",
    "deepnote_app_coordinates": {
     "h": 12,
     "w": 12,
     "x": 0,
     "y": 1528
    },
    "deepnote_cell_height": 267.984375,
    "deepnote_cell_type": "markdown",
    "tags": []
   },
   "source": [
    "**Query interpretation:**  Values of two nodes per chain, and one entity statement and one person statement per chain would be expected if all declaring entities declared a single beneficial owner. Fewer than one person statement per chain would indicate that many chains exist with no person statements involved, and more than one person statement or entity statement per chain would indicate companies with multiple owners.\n",
    "\n",
    "**Query feedback:** In this Latvia dataset most ownership chains contain a single entity and a single person. This suggests that most ownership chains in this dataset correspond to simple ownership structures, though some more complex chains can also be found."
   ]
  },
  {
   "cell_type": "markdown",
   "metadata": {
    "cell_id": "00056-4c6dd3b2-d28f-4a1a-b8ac-6f2437c23b9c",
    "deepnote_app_coordinates": {
     "h": 5,
     "w": 12,
     "x": 0,
     "y": 1680
    },
    "deepnote_cell_height": 100.390625,
    "deepnote_cell_type": "markdown",
    "id": "IJIi5Lb6zkHv"
   },
   "source": [
    "### 4. A central register\n",
    "\n",
    "This section reports how the data maps to the [central register](https://www.openownership.org/en/principles/sufficient-detail/) principle.\n",
    "\n",
    "\n",
    "\n"
   ]
  },
  {
   "cell_type": "markdown",
   "metadata": {
    "cell_id": "b79cd8122bd4475995f3b1923d9d585e",
    "deepnote_app_coordinates": {
     "h": 3,
     "w": 12,
     "x": 0,
     "y": 1686
    },
    "deepnote_cell_height": 124.796875,
    "deepnote_cell_type": "markdown",
    "tags": []
   },
   "source": [
    "#### 4.1 Publisher information\n",
    "\n",
    "- Beneficial ownership disclosures should be collated and held within a central register"
   ]
  },
  {
   "cell_type": "markdown",
   "metadata": {
    "cell_id": "1ad3a252de8b4fd2825703e38947d3e9",
    "deepnote_app_coordinates": {
     "h": 9,
     "w": 12,
     "x": 0,
     "y": 1690
    },
    "deepnote_cell_height": 191.984375,
    "deepnote_cell_type": "markdown",
    "tags": []
   },
   "source": [
    "##### 4.1.1 Publisher details\n",
    "\n",
    "**Query description:** Provides a breakdown of publisher details in beneficial ownership declarations.\n",
    "\n",
    "**Query result:** The below table provides counts of publisher names in person statements, entity statements, and ownership or control statements."
   ]
  },
  {
   "cell_type": "code",
   "execution_count": null,
   "metadata": {
    "cell_id": "cb49eea156fa4533a8b95a891da0050a",
    "deepnote_app_coordinates": {
     "h": 12,
     "w": 12,
     "x": 0,
     "y": 1700
    },
    "deepnote_app_is_code_hidden": true,
    "deepnote_cell_height": 331,
    "deepnote_cell_type": "code",
    "deepnote_to_be_reexecuted": false,
    "execution_millis": 2087,
    "execution_start": 1659974436413,
    "output_cleared": false,
    "source_hash": "301a326f",
    "tags": []
   },
   "outputs": [],
   "source": [
    "o411 = qbods.q411(d['entity_statement'],d['person_statement'],d['ooc_statement'])\n",
    "o411[0]"
   ]
  },
  {
   "cell_type": "markdown",
   "metadata": {
    "cell_id": "0ad79659ac8142efa552992cab84db94",
    "deepnote_app_coordinates": {
     "h": 5,
     "w": 12,
     "x": 0,
     "y": 1729
    },
    "deepnote_cell_height": 178.390625,
    "deepnote_cell_type": "markdown",
    "tags": []
   },
   "source": [
    "**Query interpretation:**  Publisher name information should be provided for the majority of statements, and if the data come from a single, central register, all statements should come from the same publisher.\n",
    "\n",
    "**Query feedback:** All statements contain publisher information, and all statements are published by the same publisher. This is in line with the central register principle."
   ]
  },
  {
   "cell_type": "markdown",
   "metadata": {
    "cell_id": "00057-09a9f86a-45f2-4133-bed8-ee7fc6ea1ec3",
    "deepnote_app_coordinates": {
     "h": 5,
     "w": 12,
     "x": 0,
     "y": 1782
    },
    "deepnote_cell_height": 100.390625,
    "deepnote_cell_type": "markdown",
    "id": "7yiL4FewznkQ"
   },
   "source": [
    "### 5. Public access\n",
    "\n",
    "This section reports how the data map to the [public access](https://www.openownership.org/en/principles/public-access/) principle."
   ]
  },
  {
   "cell_type": "markdown",
   "metadata": {
    "cell_id": "ddb3333427d24aa2970afe39c88f8bf4",
    "deepnote_app_coordinates": {
     "h": 7,
     "w": 12,
     "x": 0,
     "y": 1788
    },
    "deepnote_cell_height": 169.59375,
    "deepnote_cell_type": "markdown",
    "tags": []
   },
   "source": [
    "#### Data sharing\n",
    "\n",
    "- This data should be available as open data: published under a [specified licence](https://opendefinition.org/licenses/) which allows anyone to access, use, and share it without barriers such as identification, registration requirements, or the collection of data about users"
   ]
  },
  {
   "cell_type": "markdown",
   "metadata": {
    "cell_id": "14da1a76ad3742559470d54bf8357781",
    "deepnote_app_coordinates": {
     "h": 9,
     "w": 12,
     "x": 0,
     "y": 1796
    },
    "deepnote_cell_height": 169.59375,
    "deepnote_cell_type": "markdown",
    "tags": []
   },
   "source": [
    "##### License details\n",
    "\n",
    "**Query description:** Provides a breakdown of licence details in beneficial ownership declarations.\n",
    "\n",
    "**Query result:** The below table provides counts of licence types in person statements, entity statements, and ownership or control statements."
   ]
  },
  {
   "cell_type": "code",
   "execution_count": null,
   "metadata": {
    "cell_id": "cb9dd34c0c514cba895c70529d885368",
    "deepnote_app_coordinates": {
     "h": 12,
     "w": 12,
     "x": 0,
     "y": 1806
    },
    "deepnote_app_is_code_hidden": true,
    "deepnote_cell_height": 331,
    "deepnote_cell_type": "code",
    "deepnote_to_be_reexecuted": false,
    "execution_millis": 1361,
    "execution_start": 1659974437146,
    "output_cleared": false,
    "source_hash": "aa842857",
    "tags": []
   },
   "outputs": [],
   "source": [
    "o511 = qbods.q511(d['entity_statement'],d['person_statement'],d['ooc_statement'])\n",
    "o511[0]"
   ]
  },
  {
   "cell_type": "markdown",
   "metadata": {
    "cell_id": "c766c8858b14496a84b2149adc0db89a",
    "deepnote_app_coordinates": {
     "h": 7,
     "w": 12,
     "x": 0,
     "y": 1831
    },
    "deepnote_cell_height": 200.78125,
    "deepnote_cell_type": "markdown",
    "tags": []
   },
   "source": [
    "**Query interpretation:**  All statements should have license information, and the license should be an [Open Definition](http://opendefinition.org/licenses/) recommended conformant license.\n",
    "\n",
    "**Query feedback:** All statements have license information, with a link to the [license](http://opendefinition.org/licenses/cc-zero/) scheme. The license scheme itself is an Open Definition recommended conformant license, as per BODS guidance and the public access principle."
   ]
  },
  {
   "cell_type": "markdown",
   "metadata": {
    "cell_id": "00058-153cadb5-5be6-45b9-b084-0c824bfea7d8",
    "deepnote_app_coordinates": {
     "h": 5,
     "w": 12,
     "x": 0,
     "y": 1839
    },
    "deepnote_cell_height": 100.390625,
    "deepnote_cell_type": "markdown",
    "id": "nYo1sxuJzsIa"
   },
   "source": [
    "### 6. Structured data\n",
    "\n",
    "This section reports how the data map to the [structured data](https://www.openownership.org/en/principles/structured-data/) principle.\n",
    "\n"
   ]
  },
  {
   "cell_type": "markdown",
   "metadata": {
    "cell_id": "be5c1c728ff5494caeec347fb341cc2d",
    "deepnote_app_coordinates": {
     "h": 8,
     "w": 12,
     "x": 0,
     "y": 1852
    },
    "deepnote_cell_height": 191.984375,
    "deepnote_cell_type": "markdown",
    "tags": []
   },
   "source": [
    "##### BODS version\n",
    "\n",
    "**Query description:** Provides a breakdown of which BODS version is declared in beneficial ownership declarations.\n",
    "\n",
    "**Query result:** The below table and figure provide counts of BODS versions found in person statements, entity statements, and ownership or control statements."
   ]
  },
  {
   "cell_type": "code",
   "execution_count": null,
   "metadata": {
    "cell_id": "65b7c281d78a493d91c5cab193c87dd2",
    "deepnote_app_coordinates": {
     "h": 12,
     "w": 12,
     "x": 0,
     "y": 1861
    },
    "deepnote_app_is_code_hidden": true,
    "deepnote_cell_height": 331,
    "deepnote_cell_type": "code",
    "deepnote_to_be_reexecuted": false,
    "execution_millis": 685,
    "execution_start": 1659974437880,
    "output_cleared": false,
    "source_hash": "fe14eb61",
    "tags": []
   },
   "outputs": [],
   "source": [
    "o611 = qbods.q611(d['entity_statement'],d['person_statement'],d['ooc_statement'])\n",
    "o611[0]"
   ]
  },
  {
   "cell_type": "markdown",
   "metadata": {
    "cell_id": "062acf8044aa48e489e126d610a2b9f2",
    "deepnote_app_coordinates": {
     "h": 6,
     "w": 12,
     "x": 0,
     "y": 1889
    },
    "deepnote_cell_height": 178.390625,
    "deepnote_cell_type": "markdown",
    "tags": []
   },
   "source": [
    "**Query interpretation:**  All statements should include the BODS version number, and all statements in a single release should conform to the same version of BODS.\n",
    "\n",
    "**Query feedback:** All statements indicate they are published to BODS v0.2, which is in line with the structure and content of the data, and with the structured data principle."
   ]
  },
  {
   "cell_type": "markdown",
   "metadata": {
    "cell_id": "4720efd0677d407d86abb9d7b3f624cc",
    "deepnote_app_coordinates": {
     "h": 5,
     "w": 12,
     "x": 0,
     "y": 1896
    },
    "deepnote_cell_height": 100.390625,
    "deepnote_cell_type": "markdown",
    "tags": []
   },
   "source": [
    "### 7. Verification\n",
    "\n",
    "This section reports how the data map to the [verification](https://www.openownership.org/en/principles/verification/) principle."
   ]
  },
  {
   "cell_type": "markdown",
   "metadata": {
    "cell_id": "6fbc6e41e1af4499bb467d76fe06d5d4",
    "deepnote_app_coordinates": {
     "h": 10,
     "w": 12,
     "x": 0,
     "y": 1902
    },
    "deepnote_cell_height": 211.984375,
    "deepnote_cell_type": "markdown",
    "tags": []
   },
   "source": [
    "#### Source types\n",
    "\n",
    "When data is submitted, measures should be taken to verify the:\n",
    "- Beneficial owner\n",
    "- Entity\n",
    "- Ownership or control relationship between the beneficial owner and the entity\n"
   ]
  },
  {
   "cell_type": "markdown",
   "metadata": {
    "cell_id": "e0340987a2124ea8aabd057292375979",
    "deepnote_app_coordinates": {
     "h": 11,
     "w": 12,
     "x": 0,
     "y": 1913
    },
    "deepnote_cell_height": 191.984375,
    "deepnote_cell_type": "markdown",
    "tags": []
   },
   "source": [
    "##### Source type details\n",
    "\n",
    "**Query description:** Provides a breakdown of the source types in beneficial ownership declarations. This field includes the option to declare that a statement has been verified.\n",
    "\n",
    "**Query result:** The below table provides counts of source types in person statements, entity statements and ownership or control statements."
   ]
  },
  {
   "cell_type": "code",
   "execution_count": null,
   "metadata": {
    "cell_id": "0adae759a08a4a3e82b09624bb6a3f65",
    "deepnote_app_coordinates": {
     "h": 14,
     "w": 12,
     "x": 0,
     "y": 1925
    },
    "deepnote_app_is_code_hidden": true,
    "deepnote_cell_height": 372,
    "deepnote_cell_type": "code",
    "deepnote_to_be_reexecuted": false,
    "execution_millis": 5162,
    "execution_start": 1659974438549,
    "output_cleared": false,
    "source_hash": "d5067c6",
    "tags": []
   },
   "outputs": [],
   "source": [
    "o711 = qbods.q711(d['entity_statement'], d['person_statement'], d['ooc_statement'])\n",
    "o711[0]"
   ]
  },
  {
   "cell_type": "markdown",
   "metadata": {
    "cell_id": "f30bce5dd9fa45bbaad8ce5222c1a3c8",
    "deepnote_app_coordinates": {
     "h": 7,
     "w": 12,
     "x": 0,
     "y": 1955
    },
    "deepnote_cell_height": 223.1875,
    "deepnote_cell_type": "markdown",
    "tags": []
   },
   "source": [
    "**Query interpretation:** All statements should have a source type object. If the implementing country has a verification process being implemented, then use of the verified source type may provide a useful means for monitoring this process. Note that each statement can have more than one source type.\n",
    "\n",
    "**Query feedback:** All statements have a source type, but none in this dataset have a source type of verified, meaning that it is unclear from the data whether there is a verification process in place."
   ]
  },
  {
   "cell_type": "markdown",
   "metadata": {
    "cell_id": "00059-51330be6-77d2-45fc-bdfb-281b661034d0",
    "deepnote_app_coordinates": {
     "h": 5,
     "w": 12,
     "x": 0,
     "y": 636
    },
    "deepnote_cell_height": 122.796875,
    "deepnote_cell_type": "markdown",
    "id": "nGmcLiTrzzUR"
   },
   "source": [
    "### 8. Up to date and auditable\n",
    "\n",
    "This section reports how the data maps to the [up to date and auditable](https://www.openownership.org/en/principles/up-to-date-and-auditable/) principle.\n",
    "\n"
   ]
  },
  {
   "cell_type": "markdown",
   "metadata": {
    "cell_id": "da3ef973ce99441ebf6fa474e7fc59a8",
    "deepnote_app_coordinates": {
     "h": 10,
     "w": 12,
     "x": 0,
     "y": 1963
    },
    "deepnote_cell_height": 220.390625,
    "deepnote_cell_type": "markdown",
    "tags": []
   },
   "source": [
    "#### Statement dates\n",
    "\n",
    "- Initial registration and subsequent changes to beneficial ownership should be legally required to be submitted in a timely manner, with information updated within a short, defined time period after changes occur\n",
    "\n",
    "- Data should be confirmed as correct on at least an annual basis\n",
    "\n",
    "- All changes in beneficial ownership should be reported"
   ]
  },
  {
   "cell_type": "markdown",
   "metadata": {
    "cell_id": "33b70d84567d44b6825701eead77b3a1",
    "deepnote_app_coordinates": {
     "h": 9,
     "w": 12,
     "x": 0,
     "y": 1974
    },
    "deepnote_cell_height": 191.984375,
    "deepnote_cell_type": "markdown",
    "tags": []
   },
   "source": [
    "#### Statement date details\n",
    "\n",
    "**Query description:** provides a breakdown of statement dates in beneficial ownership declarations.\n",
    "\n",
    "**Query result:** The below table and graph provide counts of the year provided in the statement dates for person statements, entity statements, and ownership or control statements."
   ]
  },
  {
   "cell_type": "code",
   "execution_count": null,
   "metadata": {
    "cell_id": "1602b42997944be7a744390193f50e4a",
    "deepnote_app_coordinates": {
     "h": 20,
     "w": 12,
     "x": 0,
     "y": 1984
    },
    "deepnote_app_is_code_hidden": true,
    "deepnote_cell_height": 495,
    "deepnote_cell_type": "code",
    "deepnote_to_be_reexecuted": false,
    "execution_millis": 1089,
    "execution_start": 1659974442845,
    "output_cleared": false,
    "source_hash": "bb450aa4",
    "tags": []
   },
   "outputs": [],
   "source": [
    "o811 = qbods.q811(d['entity_statement'],d['person_statement'],d['ooc_statement'])\n",
    "o811[0]"
   ]
  },
  {
   "cell_type": "code",
   "execution_count": null,
   "metadata": {
    "cell_id": "f5737647946344c19cd180012f800c91",
    "deepnote_app_coordinates": {
     "h": 14,
     "w": 12,
     "x": 0,
     "y": 2005
    },
    "deepnote_app_is_code_hidden": true,
    "deepnote_cell_height": 356,
    "deepnote_cell_type": "code",
    "deepnote_output_heights": [
     264
    ],
    "deepnote_to_be_reexecuted": false,
    "execution_millis": 372,
    "execution_start": 1659974443936,
    "output_cleared": false,
    "source_hash": "5a0e8",
    "tags": []
   },
   "outputs": [],
   "source": [
    "o811[1]"
   ]
  },
  {
   "cell_type": "markdown",
   "metadata": {
    "cell_id": "306306acf6f147c59a0f396c706c378d",
    "deepnote_app_coordinates": {
     "h": 7,
     "w": 12,
     "x": 0,
     "y": 2020
    },
    "deepnote_cell_height": 223.1875,
    "deepnote_cell_type": "markdown",
    "tags": []
   },
   "source": [
    "**Query interpretation:** Statement dates should be provided for all statements, with no unrealistically old or recent dates. Changes over time are expected, but should reflect known changes in declaration uptake/guidance.\n",
    "\n",
    "**Query feedback:** Most, but not all, statements include statement dates. Implementing verification processes will be very challenging for statements with no date. All dates provfided are within a realistic timeframe, with no very old dates or dates in the future."
   ]
  },
  {
   "cell_type": "markdown",
   "metadata": {
    "cell_id": "00060-ec14096d-783a-4995-a62f-4b2a0cbc382f",
    "deepnote_app_coordinates": {
     "h": 5,
     "w": 12,
     "x": 0,
     "y": 642
    },
    "deepnote_cell_height": 122.796875,
    "deepnote_cell_type": "markdown",
    "id": "SMFrlWQbz17u"
   },
   "source": [
    "### 9. Sanctions and enforcement\n",
    "\n",
    "This section reports how the data maps to the [sanctions and enforcement](https://www.openownership.org/en/principles/sanctions-and-enforcement/) principle."
   ]
  },
  {
   "cell_type": "markdown",
   "metadata": {
    "cell_id": "7d2364c2044d4f54808173077d2b3b25",
    "deepnote_app_coordinates": {
     "h": 3,
     "w": 12,
     "x": 0,
     "y": 2224
    },
    "deepnote_cell_height": 102.390625,
    "deepnote_cell_type": "markdown",
    "tags": []
   },
   "source": [
    "#### Undisclosed information\n",
    "\n",
    "- Data on noncompliance should be made available"
   ]
  },
  {
   "cell_type": "markdown",
   "metadata": {
    "cell_id": "506f7bcd500549b394b86c131856e14f",
    "deepnote_app_coordinates": {
     "h": 9,
     "w": 12,
     "x": 0,
     "y": 2228
    },
    "deepnote_cell_height": 191.984375,
    "deepnote_cell_type": "markdown",
    "tags": []
   },
   "source": [
    "##### Reasons for interested parties not being disclosed\n",
    "\n",
    "**Query description:** Provides a breakdown of reasons for missing information about owners in beneficial ownership declarations.\n",
    "\n",
    "**Query result:** The below table provides counts of ownership or control statements where the interested party was listed as ‘unspecified’, grouped by the reason given for this status."
   ]
  },
  {
   "cell_type": "code",
   "execution_count": null,
   "metadata": {
    "cell_id": "0a5d0bc3c686402d9df84f7a95f04a49",
    "deepnote_app_coordinates": {
     "h": 11,
     "w": 12,
     "x": 0,
     "y": 2238
    },
    "deepnote_app_is_code_hidden": true,
    "deepnote_cell_height": 285,
    "deepnote_cell_type": "code",
    "deepnote_to_be_reexecuted": false,
    "execution_millis": 160,
    "execution_start": 1659974444316,
    "output_cleared": false,
    "source_hash": "c383b443",
    "tags": []
   },
   "outputs": [],
   "source": [
    "o921 = qbods.q921(d['ooc_statement']) \n",
    "o921"
   ]
  },
  {
   "cell_type": "markdown",
   "metadata": {
    "cell_id": "01ebb62750584cfaa2480672e42bd4ce",
    "deepnote_app_coordinates": {
     "h": 8,
     "w": 12,
     "x": 0,
     "y": 2250
    },
    "deepnote_cell_height": 290.375,
    "deepnote_cell_type": "markdown",
    "tags": []
   },
   "source": [
    "**Query interpretation:** All instances where an interested party is listed as unspecified are expected to be accompanied by an explanation, so there should be no missing data on reasons provided for these person types. In addition, a range of reasons are expected and we would not expect all reasons to be described as ‘unknown’ or ‘information-unknown-to-publisher’.\n",
    "\n",
    "**Query feedback:** All instances where no interested party has been provided are accompanied with a reason, with all entries providing the same reason of there being no beneficial owners. This is in line with the sanctions and enforcement principle guidance that data should be provided on non-compliance.\n"
   ]
  }
 ],
 "metadata": {
  "colab": {
   "collapsed_sections": [
    "F0qVlEwU0nbj",
    "yQ5waTqC8zA5",
    "DCwITdh1IjNb",
    "m7sUuztzytoE",
    "63BAZStjy445",
    "wgJ3UxPy1Kn7",
    "IJIi5Lb6zkHv",
    "7yiL4FewznkQ",
    "nYo1sxuJzsIa",
    "nGmcLiTrzzUR",
    "SMFrlWQbz17u"
   ],
   "name": "BODS data feedback notebook template.ipynb",
   "provenance": []
  },
  "deepnote": {},
  "deepnote_app_layout": "article",
  "deepnote_execution_queue": [],
  "deepnote_notebook_id": "4dfdb714-8f0a-448b-a24a-10e340c4868c",
  "kernelspec": {
   "display_name": "Python 3.10.0 64-bit",
   "language": "python",
   "name": "python3"
  },
  "language_info": {
   "codemirror_mode": {
    "name": "ipython",
    "version": 3
   },
   "file_extension": ".py",
   "mimetype": "text/x-python",
   "name": "python",
   "nbconvert_exporter": "python",
   "pygments_lexer": "ipython3",
   "version": "3.10.0"
  },
  "vscode": {
   "interpreter": {
    "hash": "aee8b7b246df8f9039afb4144a1f6fd8d2ca17a180786b69acc140d282b71a49"
   }
  }
 },
 "nbformat": 4,
 "nbformat_minor": 0
}
